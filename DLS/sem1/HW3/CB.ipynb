{
  "nbformat": 4,
  "nbformat_minor": 0,
  "metadata": {
    "kernelspec": {
      "display_name": "Python 3",
      "language": "python",
      "name": "python3"
    },
    "language_info": {
      "codemirror_mode": {
        "name": "ipython",
        "version": 3
      },
      "file_extension": ".py",
      "mimetype": "text/x-python",
      "name": "python",
      "nbconvert_exporter": "python",
      "pygments_lexer": "ipython3",
      "version": "3.7.4"
    },
    "colab": {
      "name": "baseline.ipynb",
      "provenance": [],
      "collapsed_sections": [],
      "include_colab_link": true
    }
  },
  "cells": [
    {
      "cell_type": "markdown",
      "metadata": {
        "id": "view-in-github",
        "colab_type": "text"
      },
      "source": [
        "<a href=\"https://colab.research.google.com/github/EmperorNao/MLHub/blob/main/DLS/sem1/HW3/CB.ipynb\" target=\"_parent\"><img src=\"https://colab.research.google.com/assets/colab-badge.svg\" alt=\"Open In Colab\"/></a>"
      ]
    },
    {
      "cell_type": "markdown",
      "metadata": {
        "id": "TK7oX5qdEEYr"
      },
      "source": [
        "<p style=\"align: center;\"><img align=center src=\"https://s8.hostingkartinok.com/uploads/images/2018/08/308b49fcfbc619d629fe4604bceb67ac.jpg\" width=500 height=450/></p>\n",
        "\n",
        "<h3 style=\"text-align: center;\"><b>Школа глубокого обучения ФПМИ МФТИ</b></h3>\n",
        "\n",
        "<h3 style=\"text-align: center;\"><b>Домашнее задание. Продвинутый поток. Весна 2021</b></h3>\n",
        "\n",
        "Это домашнее задание будет посвящено полноценному решению задачи машинного обучения."
      ]
    },
    {
      "cell_type": "markdown",
      "metadata": {
        "id": "zlB-owfaEEYs"
      },
      "source": [
        "Есть две части этого домашнего задания: \n",
        "* Сделать полноценный отчет о вашей работе: как вы обработали данные, какие модели попробовали и какие результаты получились (максимум 10 баллов). За каждую выполненную часть будет начислено определенное количество баллов.\n",
        "* Лучшее решение отправить в соревнование на [kaggle](https://www.kaggle.com/c/advanced-dls-spring-2021/) (максимум 5 баллов). За прохождение определенного порогов будут начисляться баллы.\n",
        "\n",
        "\n",
        "**Обе части будут проверяться в формате peer-review. Т.е. вашу посылку на степик будут проверять несколько других студентов и аггрегация их оценок будет выставлена. В то же время вам тоже нужно будет проверить несколько других учеников.**\n",
        "\n",
        "**Пожалуйста, делайте свою работу чистой и понятной, чтобы облегчить проверку. Если у вас будут проблемы с решением или хочется совета, то пишите в наш чат в телеграме или в лс @runfme. Если вы захотите проаппелировать оценку, то пипшите в лс @runfme.**\n",
        "\n",
        "**Во всех пунктах указания это минимальный набор вещей, которые стоит сделать. Если вы можете сделать какой-то шаг лучше или добавить что-то свое - дерзайте!**"
      ]
    },
    {
      "cell_type": "markdown",
      "metadata": {
        "id": "Tu_JvqcBEN8Y"
      },
      "source": [
        "# Как проверять?\n",
        "\n",
        "Ставьте полный балл, если выполнены все рекомендации или сделано что-то более интересное и сложное. За каждый отсустствующий пункт из рекомендация снижайте 1 балл."
      ]
    },
    {
      "cell_type": "markdown",
      "source": [
        "# Загрузка датасета"
      ],
      "metadata": {
        "id": "SBn3uJEzdPih"
      }
    },
    {
      "cell_type": "code",
      "source": [
        "!wget -O train.csv https://vk.com/doc209646771_632063537?hash=72705ee81cb683817b&dl=474cf35459f17f62ca\n",
        "!wget -O test.csv https://vk.com/doc209646771_632063527?hash=59a58055c24a70d69f&dl=cbee47200e26df8667\n",
        "!wget -O submission.csv https://vk.com/doc209646771_632063530?hash=c117ba1d00a374c43b&dl=e4ed277865d5bed7f0"
      ],
      "metadata": {
        "colab": {
          "base_uri": "https://localhost:8080/"
        },
        "id": "GWMjmwrvdRtc",
        "outputId": "4e85c74b-f6fc-4aa6-fd03-86960fa62af6"
      },
      "execution_count": 78,
      "outputs": [
        {
          "output_type": "stream",
          "name": "stdout",
          "text": [
            "--2022-03-05 16:58:05--  https://vk.com/doc209646771_632063537?hash=72705ee81cb683817b\n",
            "Resolving vk.com (vk.com)... 93.186.225.208, 87.240.139.194, 87.240.137.158, ...\n",
            "Connecting to vk.com (vk.com)|93.186.225.208|:443... connected.\n",
            "HTTP request sent, awaiting response... 302 Found\n",
            "Location: https://psv4.userapi.com/c237231/u209646771/docs/d38/26ffad01c6a6/train.csv?extra=wK3CYW57yKdeaYUYF0C2Rf4v3ZUbcZEEEfjv-oDDWMJx1mCaa-NgefpUk2l-vbeA0bRdL9VrpmmLgUQI3O7Ua-O21_xb-aWa35zvNwFm4s9Z_38VsTLLzZssyFMWU3Q2fXtvBlwqkcri&dl=1 [following]\n",
            "--2022-03-05 16:58:06--  https://psv4.userapi.com/c237231/u209646771/docs/d38/26ffad01c6a6/train.csv?extra=wK3CYW57yKdeaYUYF0C2Rf4v3ZUbcZEEEfjv-oDDWMJx1mCaa-NgefpUk2l-vbeA0bRdL9VrpmmLgUQI3O7Ua-O21_xb-aWa35zvNwFm4s9Z_38VsTLLzZssyFMWU3Q2fXtvBlwqkcri&dl=1\n",
            "Resolving psv4.userapi.com (psv4.userapi.com)... 87.240.137.134, 87.240.137.140, 87.240.190.76, ...\n",
            "Connecting to psv4.userapi.com (psv4.userapi.com)|87.240.137.134|:443... connected.\n",
            "HTTP request sent, awaiting response... 200 OK\n",
            "Length: 664000 (648K) [application/octet-stream]\n",
            "Saving to: ‘train.csv’\n",
            "\n",
            "train.csv           100%[===================>] 648.44K  1.34MB/s    in 0.5s    \n",
            "\n",
            "2022-03-05 16:58:08 (1.34 MB/s) - ‘train.csv’ saved [664000/664000]\n",
            "\n",
            "--2022-03-05 16:58:08--  https://vk.com/doc209646771_632063527?hash=59a58055c24a70d69f\n",
            "Resolving vk.com (vk.com)... 87.240.137.158, 87.240.190.67, 87.240.190.72, ...\n",
            "Connecting to vk.com (vk.com)|87.240.137.158|:443... connected.\n",
            "HTTP request sent, awaiting response... 302 Found\n",
            "Location: https://psv4.userapi.com/c237231/u209646771/docs/d56/cb6d3d71a1e6/test.csv?extra=syPcPSq0Bd9D0QUkdOAIDWLWoNwqv_ZLbP5LyI_Ae9oymJgbKVF8NNzGUjsCiKF78YWCjdl9QuSgJ8rq7KOq_7_yqQSxhlcwSQbKVonVNioQGdciKHBR-IfuTZdnissX453WL9N6LuRo&dl=1 [following]\n",
            "--2022-03-05 16:58:08--  https://psv4.userapi.com/c237231/u209646771/docs/d56/cb6d3d71a1e6/test.csv?extra=syPcPSq0Bd9D0QUkdOAIDWLWoNwqv_ZLbP5LyI_Ae9oymJgbKVF8NNzGUjsCiKF78YWCjdl9QuSgJ8rq7KOq_7_yqQSxhlcwSQbKVonVNioQGdciKHBR-IfuTZdnissX453WL9N6LuRo&dl=1\n",
            "Resolving psv4.userapi.com (psv4.userapi.com)... 87.240.137.134, 87.240.137.140, 87.240.190.76, ...\n",
            "Connecting to psv4.userapi.com (psv4.userapi.com)|87.240.137.134|:443... connected.\n",
            "HTTP request sent, awaiting response... 200 OK\n",
            "Length: 217688 (213K) [application/octet-stream]\n",
            "Saving to: ‘test.csv’\n",
            "\n",
            "test.csv            100%[===================>] 212.59K   614KB/s    in 0.3s    \n",
            "\n",
            "2022-03-05 16:58:09 (614 KB/s) - ‘test.csv’ saved [217688/217688]\n",
            "\n",
            "--2022-03-05 16:58:09--  https://vk.com/doc209646771_632063530?hash=c117ba1d00a374c43b\n",
            "Resolving vk.com (vk.com)... 87.240.190.78, 93.186.225.208, 87.240.139.194, ...\n",
            "Connecting to vk.com (vk.com)|87.240.190.78|:443... connected.\n",
            "HTTP request sent, awaiting response... 302 Found\n",
            "Location: https://psv4.userapi.com/c237231/u209646771/docs/d38/597f308cd9bd/submission.csv?extra=-BwpCEoe0RSjX9Njfkz7CocrkKOqQZDEijJqetoCnoVKcDvFL3irRfnBmNsoQGwMh3T3DdtW0UrIDmJkVHpmVhCHNcvmBz3BuKimB-rl5OKqj1luQaYNVWazSM9o6plr2wnAF-0kOdyH&dl=1 [following]\n",
            "--2022-03-05 16:58:10--  https://psv4.userapi.com/c237231/u209646771/docs/d38/597f308cd9bd/submission.csv?extra=-BwpCEoe0RSjX9Njfkz7CocrkKOqQZDEijJqetoCnoVKcDvFL3irRfnBmNsoQGwMh3T3DdtW0UrIDmJkVHpmVhCHNcvmBz3BuKimB-rl5OKqj1luQaYNVWazSM9o6plr2wnAF-0kOdyH&dl=1\n",
            "Resolving psv4.userapi.com (psv4.userapi.com)... 87.240.137.134, 87.240.137.140, 87.240.190.76, ...\n",
            "Connecting to psv4.userapi.com (psv4.userapi.com)|87.240.137.134|:443... connected.\n",
            "HTTP request sent, awaiting response... 200 OK\n",
            "Length: 14748 (14K) [application/octet-stream]\n",
            "Saving to: ‘submission.csv’\n",
            "\n",
            "submission.csv      100%[===================>]  14.40K  --.-KB/s    in 0s      \n",
            "\n",
            "2022-03-05 16:58:10 (90.8 MB/s) - ‘submission.csv’ saved [14748/14748]\n",
            "\n"
          ]
        }
      ]
    },
    {
      "cell_type": "markdown",
      "source": [
        "## Seedимся"
      ],
      "metadata": {
        "id": "QcYQ_xuqLDqp"
      }
    },
    {
      "cell_type": "code",
      "source": [
        "SEED = 42\n",
        "\n",
        "np.random.seed(42)"
      ],
      "metadata": {
        "id": "PHBjrPbpLFPS"
      },
      "execution_count": 232,
      "outputs": []
    },
    {
      "cell_type": "markdown",
      "metadata": {
        "id": "ninJ63mJEEYt"
      },
      "source": [
        "# Метрика\n",
        "\n",
        "Перед решением любой задачи важно понимать, как будет оцениваться ваше решение. В данном случае мы используем стандартную для задачи классификации метрику ROC-AUC. Ее можно вычислить используя только предсказанные вероятности и истинные классы без конкретного порога классификации + она раотает даже если классы в данных сильно несбалансированны (примеров одного класса в десятки раз больше примеров длугого). Именно поэтому она очень удобна для соревнований.\n",
        "\n",
        "Посчитать ее легко:\n"
      ]
    },
    {
      "cell_type": "code",
      "metadata": {
        "id": "SQIrka7yEEYu",
        "outputId": "3ff997d2-efb3-4eb2-a384-69746799be0c",
        "colab": {
          "base_uri": "https://localhost:8080/"
        }
      },
      "source": [
        "from sklearn.metrics import roc_auc_score\n",
        "\n",
        "y_true = [\n",
        "    0,\n",
        "    1,\n",
        "    1,\n",
        "    0,\n",
        "    1\n",
        "]\n",
        "\n",
        "y_predictions = [\n",
        "    0.1,\n",
        "    0.9,\n",
        "    0.4,\n",
        "    0.6,\n",
        "    0.61\n",
        "]\n",
        "\n",
        "roc_auc_score(y_true, y_predictions)"
      ],
      "execution_count": 79,
      "outputs": [
        {
          "output_type": "execute_result",
          "data": {
            "text/plain": [
              "0.8333333333333333"
            ]
          },
          "metadata": {},
          "execution_count": 79
        }
      ]
    },
    {
      "cell_type": "markdown",
      "metadata": {
        "id": "IrDNNkNTEEYz"
      },
      "source": [
        "# Первая часть. Исследование"
      ]
    },
    {
      "cell_type": "code",
      "metadata": {
        "id": "lzLqEeZKEEYz"
      },
      "source": [
        "import pandas as pd\n",
        "import numpy as np\n",
        "from matplotlib import pyplot as plt"
      ],
      "execution_count": 80,
      "outputs": []
    },
    {
      "cell_type": "markdown",
      "metadata": {
        "id": "LOlxdURSEEY3"
      },
      "source": [
        "## Загрузка данных (2 балла)\n",
        "\n",
        "1) Посмотрите на случайные строчки. \n",
        "\n",
        "2) Посмотрите, есть ли в датасете незаполненные значения (nan'ы) с помощью data.isna() или data.info() и, если нужно, замените их на что-то. Будет хорошо, если вы построите табличку с количеством nan в каждой колонке."
      ]
    },
    {
      "cell_type": "code",
      "metadata": {
        "id": "pw-Brue9EEY3"
      },
      "source": [
        "data = pd.read_csv('./train.csv')"
      ],
      "execution_count": 144,
      "outputs": []
    },
    {
      "cell_type": "code",
      "metadata": {
        "id": "KgnkkF5bEEY9"
      },
      "source": [
        "# Для вашего удобства списки с именами разных колонок\n",
        "\n",
        "# Числовые признаки\n",
        "num_cols = [\n",
        "    'ClientPeriod',\n",
        "    'MonthlySpending',\n",
        "    'TotalSpent'\n",
        "]\n",
        "\n",
        "# Категориальные признаки\n",
        "cat_cols = [\n",
        "    'Sex',\n",
        "    'IsSeniorCitizen',\n",
        "    'HasPartner',\n",
        "    'HasChild',\n",
        "    'HasPhoneService',\n",
        "    'HasMultiplePhoneNumbers',\n",
        "    'HasInternetService',\n",
        "    'HasOnlineSecurityService',\n",
        "    'HasOnlineBackup',\n",
        "    'HasDeviceProtection',\n",
        "    'HasTechSupportAccess',\n",
        "    'HasOnlineTV',\n",
        "    'HasMovieSubscription',\n",
        "    'HasContractPhone',\n",
        "    'IsBillingPaperless',\n",
        "    'PaymentMethod'\n",
        "]\n",
        "\n",
        "feature_cols = num_cols + cat_cols\n",
        "target_col = 'Churn'"
      ],
      "execution_count": 145,
      "outputs": []
    },
    {
      "cell_type": "code",
      "source": [
        "data.sample(5)"
      ],
      "metadata": {
        "colab": {
          "base_uri": "https://localhost:8080/",
          "height": 357
        },
        "id": "onYkj2fpepNd",
        "outputId": "ed4fcec3-b430-46a6-a1e6-a27991d56320"
      },
      "execution_count": 146,
      "outputs": [
        {
          "output_type": "execute_result",
          "data": {
            "text/html": [
              "\n",
              "  <div id=\"df-b080fb5e-a919-44fb-a9c6-281dad277b50\">\n",
              "    <div class=\"colab-df-container\">\n",
              "      <div>\n",
              "<style scoped>\n",
              "    .dataframe tbody tr th:only-of-type {\n",
              "        vertical-align: middle;\n",
              "    }\n",
              "\n",
              "    .dataframe tbody tr th {\n",
              "        vertical-align: top;\n",
              "    }\n",
              "\n",
              "    .dataframe thead th {\n",
              "        text-align: right;\n",
              "    }\n",
              "</style>\n",
              "<table border=\"1\" class=\"dataframe\">\n",
              "  <thead>\n",
              "    <tr style=\"text-align: right;\">\n",
              "      <th></th>\n",
              "      <th>ClientPeriod</th>\n",
              "      <th>MonthlySpending</th>\n",
              "      <th>TotalSpent</th>\n",
              "      <th>Sex</th>\n",
              "      <th>IsSeniorCitizen</th>\n",
              "      <th>HasPartner</th>\n",
              "      <th>HasChild</th>\n",
              "      <th>HasPhoneService</th>\n",
              "      <th>HasMultiplePhoneNumbers</th>\n",
              "      <th>HasInternetService</th>\n",
              "      <th>HasOnlineSecurityService</th>\n",
              "      <th>HasOnlineBackup</th>\n",
              "      <th>HasDeviceProtection</th>\n",
              "      <th>HasTechSupportAccess</th>\n",
              "      <th>HasOnlineTV</th>\n",
              "      <th>HasMovieSubscription</th>\n",
              "      <th>HasContractPhone</th>\n",
              "      <th>IsBillingPaperless</th>\n",
              "      <th>PaymentMethod</th>\n",
              "      <th>Churn</th>\n",
              "    </tr>\n",
              "  </thead>\n",
              "  <tbody>\n",
              "    <tr>\n",
              "      <th>4469</th>\n",
              "      <td>72</td>\n",
              "      <td>104.80</td>\n",
              "      <td>7470.1</td>\n",
              "      <td>Male</td>\n",
              "      <td>0</td>\n",
              "      <td>Yes</td>\n",
              "      <td>No</td>\n",
              "      <td>Yes</td>\n",
              "      <td>Yes</td>\n",
              "      <td>Fiber optic</td>\n",
              "      <td>No</td>\n",
              "      <td>Yes</td>\n",
              "      <td>Yes</td>\n",
              "      <td>No</td>\n",
              "      <td>Yes</td>\n",
              "      <td>Yes</td>\n",
              "      <td>Two year</td>\n",
              "      <td>Yes</td>\n",
              "      <td>Bank transfer (automatic)</td>\n",
              "      <td>0</td>\n",
              "    </tr>\n",
              "    <tr>\n",
              "      <th>4053</th>\n",
              "      <td>2</td>\n",
              "      <td>19.90</td>\n",
              "      <td>57.4</td>\n",
              "      <td>Female</td>\n",
              "      <td>0</td>\n",
              "      <td>No</td>\n",
              "      <td>No</td>\n",
              "      <td>Yes</td>\n",
              "      <td>No</td>\n",
              "      <td>No</td>\n",
              "      <td>No internet service</td>\n",
              "      <td>No internet service</td>\n",
              "      <td>No internet service</td>\n",
              "      <td>No internet service</td>\n",
              "      <td>No internet service</td>\n",
              "      <td>No internet service</td>\n",
              "      <td>Month-to-month</td>\n",
              "      <td>No</td>\n",
              "      <td>Electronic check</td>\n",
              "      <td>0</td>\n",
              "    </tr>\n",
              "    <tr>\n",
              "      <th>5060</th>\n",
              "      <td>17</td>\n",
              "      <td>65.75</td>\n",
              "      <td>1111.2</td>\n",
              "      <td>Male</td>\n",
              "      <td>0</td>\n",
              "      <td>No</td>\n",
              "      <td>No</td>\n",
              "      <td>Yes</td>\n",
              "      <td>Yes</td>\n",
              "      <td>DSL</td>\n",
              "      <td>Yes</td>\n",
              "      <td>No</td>\n",
              "      <td>No</td>\n",
              "      <td>No</td>\n",
              "      <td>No</td>\n",
              "      <td>Yes</td>\n",
              "      <td>Month-to-month</td>\n",
              "      <td>No</td>\n",
              "      <td>Bank transfer (automatic)</td>\n",
              "      <td>0</td>\n",
              "    </tr>\n",
              "    <tr>\n",
              "      <th>5070</th>\n",
              "      <td>12</td>\n",
              "      <td>79.95</td>\n",
              "      <td>1043.4</td>\n",
              "      <td>Male</td>\n",
              "      <td>0</td>\n",
              "      <td>No</td>\n",
              "      <td>No</td>\n",
              "      <td>Yes</td>\n",
              "      <td>No</td>\n",
              "      <td>Fiber optic</td>\n",
              "      <td>No</td>\n",
              "      <td>No</td>\n",
              "      <td>No</td>\n",
              "      <td>No</td>\n",
              "      <td>No</td>\n",
              "      <td>Yes</td>\n",
              "      <td>Month-to-month</td>\n",
              "      <td>Yes</td>\n",
              "      <td>Bank transfer (automatic)</td>\n",
              "      <td>0</td>\n",
              "    </tr>\n",
              "    <tr>\n",
              "      <th>2766</th>\n",
              "      <td>24</td>\n",
              "      <td>84.85</td>\n",
              "      <td>2048.8</td>\n",
              "      <td>Male</td>\n",
              "      <td>0</td>\n",
              "      <td>No</td>\n",
              "      <td>No</td>\n",
              "      <td>Yes</td>\n",
              "      <td>Yes</td>\n",
              "      <td>Fiber optic</td>\n",
              "      <td>No</td>\n",
              "      <td>Yes</td>\n",
              "      <td>Yes</td>\n",
              "      <td>No</td>\n",
              "      <td>No</td>\n",
              "      <td>No</td>\n",
              "      <td>Month-to-month</td>\n",
              "      <td>Yes</td>\n",
              "      <td>Bank transfer (automatic)</td>\n",
              "      <td>0</td>\n",
              "    </tr>\n",
              "  </tbody>\n",
              "</table>\n",
              "</div>\n",
              "      <button class=\"colab-df-convert\" onclick=\"convertToInteractive('df-b080fb5e-a919-44fb-a9c6-281dad277b50')\"\n",
              "              title=\"Convert this dataframe to an interactive table.\"\n",
              "              style=\"display:none;\">\n",
              "        \n",
              "  <svg xmlns=\"http://www.w3.org/2000/svg\" height=\"24px\"viewBox=\"0 0 24 24\"\n",
              "       width=\"24px\">\n",
              "    <path d=\"M0 0h24v24H0V0z\" fill=\"none\"/>\n",
              "    <path d=\"M18.56 5.44l.94 2.06.94-2.06 2.06-.94-2.06-.94-.94-2.06-.94 2.06-2.06.94zm-11 1L8.5 8.5l.94-2.06 2.06-.94-2.06-.94L8.5 2.5l-.94 2.06-2.06.94zm10 10l.94 2.06.94-2.06 2.06-.94-2.06-.94-.94-2.06-.94 2.06-2.06.94z\"/><path d=\"M17.41 7.96l-1.37-1.37c-.4-.4-.92-.59-1.43-.59-.52 0-1.04.2-1.43.59L10.3 9.45l-7.72 7.72c-.78.78-.78 2.05 0 2.83L4 21.41c.39.39.9.59 1.41.59.51 0 1.02-.2 1.41-.59l7.78-7.78 2.81-2.81c.8-.78.8-2.07 0-2.86zM5.41 20L4 18.59l7.72-7.72 1.47 1.35L5.41 20z\"/>\n",
              "  </svg>\n",
              "      </button>\n",
              "      \n",
              "  <style>\n",
              "    .colab-df-container {\n",
              "      display:flex;\n",
              "      flex-wrap:wrap;\n",
              "      gap: 12px;\n",
              "    }\n",
              "\n",
              "    .colab-df-convert {\n",
              "      background-color: #E8F0FE;\n",
              "      border: none;\n",
              "      border-radius: 50%;\n",
              "      cursor: pointer;\n",
              "      display: none;\n",
              "      fill: #1967D2;\n",
              "      height: 32px;\n",
              "      padding: 0 0 0 0;\n",
              "      width: 32px;\n",
              "    }\n",
              "\n",
              "    .colab-df-convert:hover {\n",
              "      background-color: #E2EBFA;\n",
              "      box-shadow: 0px 1px 2px rgba(60, 64, 67, 0.3), 0px 1px 3px 1px rgba(60, 64, 67, 0.15);\n",
              "      fill: #174EA6;\n",
              "    }\n",
              "\n",
              "    [theme=dark] .colab-df-convert {\n",
              "      background-color: #3B4455;\n",
              "      fill: #D2E3FC;\n",
              "    }\n",
              "\n",
              "    [theme=dark] .colab-df-convert:hover {\n",
              "      background-color: #434B5C;\n",
              "      box-shadow: 0px 1px 3px 1px rgba(0, 0, 0, 0.15);\n",
              "      filter: drop-shadow(0px 1px 2px rgba(0, 0, 0, 0.3));\n",
              "      fill: #FFFFFF;\n",
              "    }\n",
              "  </style>\n",
              "\n",
              "      <script>\n",
              "        const buttonEl =\n",
              "          document.querySelector('#df-b080fb5e-a919-44fb-a9c6-281dad277b50 button.colab-df-convert');\n",
              "        buttonEl.style.display =\n",
              "          google.colab.kernel.accessAllowed ? 'block' : 'none';\n",
              "\n",
              "        async function convertToInteractive(key) {\n",
              "          const element = document.querySelector('#df-b080fb5e-a919-44fb-a9c6-281dad277b50');\n",
              "          const dataTable =\n",
              "            await google.colab.kernel.invokeFunction('convertToInteractive',\n",
              "                                                     [key], {});\n",
              "          if (!dataTable) return;\n",
              "\n",
              "          const docLinkHtml = 'Like what you see? Visit the ' +\n",
              "            '<a target=\"_blank\" href=https://colab.research.google.com/notebooks/data_table.ipynb>data table notebook</a>'\n",
              "            + ' to learn more about interactive tables.';\n",
              "          element.innerHTML = '';\n",
              "          dataTable['output_type'] = 'display_data';\n",
              "          await google.colab.output.renderOutput(dataTable, element);\n",
              "          const docLink = document.createElement('div');\n",
              "          docLink.innerHTML = docLinkHtml;\n",
              "          element.appendChild(docLink);\n",
              "        }\n",
              "      </script>\n",
              "    </div>\n",
              "  </div>\n",
              "  "
            ],
            "text/plain": [
              "      ClientPeriod  MonthlySpending TotalSpent     Sex  IsSeniorCitizen  \\\n",
              "4469            72           104.80     7470.1    Male                0   \n",
              "4053             2            19.90       57.4  Female                0   \n",
              "5060            17            65.75     1111.2    Male                0   \n",
              "5070            12            79.95     1043.4    Male                0   \n",
              "2766            24            84.85     2048.8    Male                0   \n",
              "\n",
              "     HasPartner HasChild HasPhoneService HasMultiplePhoneNumbers  \\\n",
              "4469        Yes       No             Yes                     Yes   \n",
              "4053         No       No             Yes                      No   \n",
              "5060         No       No             Yes                     Yes   \n",
              "5070         No       No             Yes                      No   \n",
              "2766         No       No             Yes                     Yes   \n",
              "\n",
              "     HasInternetService HasOnlineSecurityService      HasOnlineBackup  \\\n",
              "4469        Fiber optic                       No                  Yes   \n",
              "4053                 No      No internet service  No internet service   \n",
              "5060                DSL                      Yes                   No   \n",
              "5070        Fiber optic                       No                   No   \n",
              "2766        Fiber optic                       No                  Yes   \n",
              "\n",
              "      HasDeviceProtection HasTechSupportAccess          HasOnlineTV  \\\n",
              "4469                  Yes                   No                  Yes   \n",
              "4053  No internet service  No internet service  No internet service   \n",
              "5060                   No                   No                   No   \n",
              "5070                   No                   No                   No   \n",
              "2766                  Yes                   No                   No   \n",
              "\n",
              "     HasMovieSubscription HasContractPhone IsBillingPaperless  \\\n",
              "4469                  Yes         Two year                Yes   \n",
              "4053  No internet service   Month-to-month                 No   \n",
              "5060                  Yes   Month-to-month                 No   \n",
              "5070                  Yes   Month-to-month                Yes   \n",
              "2766                   No   Month-to-month                Yes   \n",
              "\n",
              "                  PaymentMethod  Churn  \n",
              "4469  Bank transfer (automatic)      0  \n",
              "4053           Electronic check      0  \n",
              "5060  Bank transfer (automatic)      0  \n",
              "5070  Bank transfer (automatic)      0  \n",
              "2766  Bank transfer (automatic)      0  "
            ]
          },
          "metadata": {},
          "execution_count": 146
        }
      ]
    },
    {
      "cell_type": "code",
      "metadata": {
        "id": "tHC6gWabEEZA",
        "colab": {
          "base_uri": "https://localhost:8080/"
        },
        "outputId": "367d8a5b-980b-4eb4-b2d5-d5ee0b6dddca"
      },
      "source": [
        "print(f\"Количество объектов: {len(data)}\\n\")\n",
        "data.info()"
      ],
      "execution_count": 147,
      "outputs": [
        {
          "output_type": "stream",
          "name": "stdout",
          "text": [
            "Количество объектов: 5282\n",
            "\n",
            "<class 'pandas.core.frame.DataFrame'>\n",
            "RangeIndex: 5282 entries, 0 to 5281\n",
            "Data columns (total 20 columns):\n",
            " #   Column                    Non-Null Count  Dtype  \n",
            "---  ------                    --------------  -----  \n",
            " 0   ClientPeriod              5282 non-null   int64  \n",
            " 1   MonthlySpending           5282 non-null   float64\n",
            " 2   TotalSpent                5282 non-null   object \n",
            " 3   Sex                       5282 non-null   object \n",
            " 4   IsSeniorCitizen           5282 non-null   int64  \n",
            " 5   HasPartner                5282 non-null   object \n",
            " 6   HasChild                  5282 non-null   object \n",
            " 7   HasPhoneService           5282 non-null   object \n",
            " 8   HasMultiplePhoneNumbers   5282 non-null   object \n",
            " 9   HasInternetService        5282 non-null   object \n",
            " 10  HasOnlineSecurityService  5282 non-null   object \n",
            " 11  HasOnlineBackup           5282 non-null   object \n",
            " 12  HasDeviceProtection       5282 non-null   object \n",
            " 13  HasTechSupportAccess      5282 non-null   object \n",
            " 14  HasOnlineTV               5282 non-null   object \n",
            " 15  HasMovieSubscription      5282 non-null   object \n",
            " 16  HasContractPhone          5282 non-null   object \n",
            " 17  IsBillingPaperless        5282 non-null   object \n",
            " 18  PaymentMethod             5282 non-null   object \n",
            " 19  Churn                     5282 non-null   int64  \n",
            "dtypes: float64(1), int64(3), object(16)\n",
            "memory usage: 825.4+ KB\n"
          ]
        }
      ]
    },
    {
      "cell_type": "markdown",
      "source": [
        "### Наблюдаем, что данные чистые ... на первый взгляд\n",
        "\n",
        "Но не совсем. В дальнейшем обнаруживается, что есть значения ' ' в num_cols (TotalSpent)\n",
        "\n",
        "Кажется, что 9 объектов легче выкинуть, чем пытаться кодировать пропущенные значения"
      ],
      "metadata": {
        "id": "cByeuovweii8"
      }
    },
    {
      "cell_type": "code",
      "source": [
        "print(\"NaN\")\n",
        "print((data.isna()).sum())\n",
        "\n",
        "print()\n",
        "\n",
        "print(\"Пустые строки и пробелы\")\n",
        "print(((data == ' ') | (data == '')).sum())"
      ],
      "metadata": {
        "colab": {
          "base_uri": "https://localhost:8080/"
        },
        "id": "uuWxsKmTFT3a",
        "outputId": "c544a9a4-435c-4cd8-fbba-42126ca0cbe5"
      },
      "execution_count": 148,
      "outputs": [
        {
          "output_type": "stream",
          "name": "stdout",
          "text": [
            "NaN\n",
            "ClientPeriod                0\n",
            "MonthlySpending             0\n",
            "TotalSpent                  0\n",
            "Sex                         0\n",
            "IsSeniorCitizen             0\n",
            "HasPartner                  0\n",
            "HasChild                    0\n",
            "HasPhoneService             0\n",
            "HasMultiplePhoneNumbers     0\n",
            "HasInternetService          0\n",
            "HasOnlineSecurityService    0\n",
            "HasOnlineBackup             0\n",
            "HasDeviceProtection         0\n",
            "HasTechSupportAccess        0\n",
            "HasOnlineTV                 0\n",
            "HasMovieSubscription        0\n",
            "HasContractPhone            0\n",
            "IsBillingPaperless          0\n",
            "PaymentMethod               0\n",
            "Churn                       0\n",
            "dtype: int64\n",
            "\n",
            "Пустые строки и пробелы\n",
            "ClientPeriod                0\n",
            "MonthlySpending             0\n",
            "TotalSpent                  9\n",
            "Sex                         0\n",
            "IsSeniorCitizen             0\n",
            "HasPartner                  0\n",
            "HasChild                    0\n",
            "HasPhoneService             0\n",
            "HasMultiplePhoneNumbers     0\n",
            "HasInternetService          0\n",
            "HasOnlineSecurityService    0\n",
            "HasOnlineBackup             0\n",
            "HasDeviceProtection         0\n",
            "HasTechSupportAccess        0\n",
            "HasOnlineTV                 0\n",
            "HasMovieSubscription        0\n",
            "HasContractPhone            0\n",
            "IsBillingPaperless          0\n",
            "PaymentMethod               0\n",
            "Churn                       0\n",
            "dtype: int64\n"
          ]
        }
      ]
    },
    {
      "cell_type": "code",
      "source": [
        "data = data[data != ' ']\n",
        "data = data.dropna()\n",
        "\n",
        "data['TotalSpent'] = data['TotalSpent'].astype('float64')"
      ],
      "metadata": {
        "id": "aY8NoxskF1P-"
      },
      "execution_count": 160,
      "outputs": []
    },
    {
      "cell_type": "code",
      "source": [
        "data.info()"
      ],
      "metadata": {
        "colab": {
          "base_uri": "https://localhost:8080/"
        },
        "id": "JYh3IR-PG14R",
        "outputId": "6cb87b8d-3327-4e12-81dc-039a2536c02a"
      },
      "execution_count": 161,
      "outputs": [
        {
          "output_type": "stream",
          "name": "stdout",
          "text": [
            "<class 'pandas.core.frame.DataFrame'>\n",
            "Int64Index: 5273 entries, 0 to 5281\n",
            "Data columns (total 20 columns):\n",
            " #   Column                    Non-Null Count  Dtype  \n",
            "---  ------                    --------------  -----  \n",
            " 0   ClientPeriod              5273 non-null   int64  \n",
            " 1   MonthlySpending           5273 non-null   float64\n",
            " 2   TotalSpent                5273 non-null   float64\n",
            " 3   Sex                       5273 non-null   object \n",
            " 4   IsSeniorCitizen           5273 non-null   int64  \n",
            " 5   HasPartner                5273 non-null   object \n",
            " 6   HasChild                  5273 non-null   object \n",
            " 7   HasPhoneService           5273 non-null   object \n",
            " 8   HasMultiplePhoneNumbers   5273 non-null   object \n",
            " 9   HasInternetService        5273 non-null   object \n",
            " 10  HasOnlineSecurityService  5273 non-null   object \n",
            " 11  HasOnlineBackup           5273 non-null   object \n",
            " 12  HasDeviceProtection       5273 non-null   object \n",
            " 13  HasTechSupportAccess      5273 non-null   object \n",
            " 14  HasOnlineTV               5273 non-null   object \n",
            " 15  HasMovieSubscription      5273 non-null   object \n",
            " 16  HasContractPhone          5273 non-null   object \n",
            " 17  IsBillingPaperless        5273 non-null   object \n",
            " 18  PaymentMethod             5273 non-null   object \n",
            " 19  Churn                     5273 non-null   int64  \n",
            "dtypes: float64(2), int64(3), object(15)\n",
            "memory usage: 865.1+ KB\n"
          ]
        }
      ]
    },
    {
      "cell_type": "markdown",
      "metadata": {
        "id": "dK370bPCEEZD"
      },
      "source": [
        "## Анализ данных (3 балла)\n",
        "\n",
        "1) Для численных призанков постройте гистограмму (*plt.hist(...)*) или boxplot (*plt.boxplot(...)*). Для категориальных посчитайте количество каждого значения для каждого признака. Для каждой колонки надо сделать *data.value_counts()* и построить bar диаграммы *plt.bar(...)* или круговые диаграммы *plt.pie(...)* (хорошо, елси вы сможете это сделать на одном гарфике с помощью *plt.subplots(...)*). \n",
        "\n",
        "2) Посмотрите на распределение целевой переменной и скажите, являются ли классы несбалансированными.\n",
        "\n",
        "3) (Если будет желание) Поиграйте с разными библиотеками для визуализации - *sns*, *pandas_visual_analysis*, etc.\n",
        "\n",
        "Второй пункт очень важен, потому что существуют задачи классификации с несбалансированными классами. Например, это может значить, что в датасете намного больше примеров 0 класса. В таких случаях нужно 1) не использовать accuracy как метрику 2) использовать методы борьбы с imbalanced dataset (обычно если датасет сильно несбалансирован, т.е. класса 1 в 20 раз меньше класса 0)."
      ]
    },
    {
      "cell_type": "markdown",
      "source": [
        "## Численные фичи"
      ],
      "metadata": {
        "id": "FBFOXXcLi1Sd"
      }
    },
    {
      "cell_type": "code",
      "source": [
        "for col in num_cols:\n",
        "\n",
        "    plt.figure(figsize=(10, 7))\n",
        "    plt.title(\"hist \" + col)\n",
        "    plt.hist(data[col])\n",
        "    plt.show()"
      ],
      "metadata": {
        "colab": {
          "base_uri": "https://localhost:8080/",
          "height": 1000
        },
        "id": "wsyFBLKagweG",
        "outputId": "348c8983-6eef-4ad6-8c55-5634e08cd648"
      },
      "execution_count": 162,
      "outputs": [
        {
          "output_type": "display_data",
          "data": {
            "image/png": "[encoded data removed]",
            "text/plain": [
              "<Figure size 720x504 with 1 Axes>"
            ]
          },
          "metadata": {
            "needs_background": "light"
          }
        },
        {
          "output_type": "display_data",
          "data": {
            "image/png": "[encoded data removed]",
            "text/plain": [
              "<Figure size 720x504 with 1 Axes>"
            ]
          },
          "metadata": {
            "needs_background": "light"
          }
        },
        {
          "output_type": "display_data",
          "data": {
            "image/png": "[encoded data removed]",
            "text/plain": [
              "<Figure size 720x504 with 1 Axes>"
            ]
          },
          "metadata": {
            "needs_background": "light"
          }
        }
      ]
    },
    {
      "cell_type": "markdown",
      "source": [
        "## Категориальные фичи"
      ],
      "metadata": {
        "id": "ElaWgmhNi4zY"
      }
    },
    {
      "cell_type": "code",
      "source": [
        "from math import ceil\n",
        "\n",
        "n_cat_cols = len(cat_cols)\n",
        "\n",
        "ncols = 4\n",
        "nrows = ceil(n_cat_cols / 4)\n",
        "\n",
        "\n",
        "colors = ['purple', 'green', 'blue', 'cyan']\n",
        "\n",
        "plt.figure(figsize = (5 * nrows, 5 * ncols))\n",
        "for index, col in enumerate(cat_cols):\n",
        "\n",
        "    plt.subplot(nrows, ncols, index + 1)\n",
        "    plt.title(col)\n",
        "\n",
        "    d = data[col].value_counts()\n",
        "    plt.bar(list(d.index), list(d.values), tick_label=list(d.index), color=colors[index % len(colors)])\n",
        "\n",
        "plt.show()"
      ],
      "metadata": {
        "colab": {
          "base_uri": "https://localhost:8080/",
          "height": 1000
        },
        "id": "79WlhgpFi_Az",
        "outputId": "71feafb3-d310-42f1-c0d3-21c6edf284d3"
      },
      "execution_count": 163,
      "outputs": [
        {
          "output_type": "display_data",
          "data": {
            "image/png": "[encoded data removed]",
            "text/plain": [
              "<Figure size 1440x1440 with 16 Axes>"
            ]
          },
          "metadata": {
            "needs_background": "light"
          }
        }
      ]
    },
    {
      "cell_type": "markdown",
      "source": [
        "## Таргет"
      ],
      "metadata": {
        "id": "d-nE0BuJle5U"
      }
    },
    {
      "cell_type": "markdown",
      "source": [
        "### Видим дизбаланс, меток 0 больше чем 1"
      ],
      "metadata": {
        "id": "nltXjRQlmE-x"
      }
    },
    {
      "cell_type": "code",
      "source": [
        "plt.figure(figsize = (12, 8))\n",
        "\n",
        "plt.title(target_col)\n",
        "d = data[target_col].value_counts()\n",
        "plt.bar(list(d.index), list(d.values), tick_label=list(d.index))"
      ],
      "metadata": {
        "colab": {
          "base_uri": "https://localhost:8080/",
          "height": 516
        },
        "id": "X7Ff9_48lhKH",
        "outputId": "9790d5a6-59ab-4e49-c543-e7043c011f4f"
      },
      "execution_count": 164,
      "outputs": [
        {
          "output_type": "execute_result",
          "data": {
            "text/plain": [
              "<BarContainer object of 2 artists>"
            ]
          },
          "metadata": {},
          "execution_count": 164
        },
        {
          "output_type": "display_data",
          "data": {
            "image/png": "[encoded data removed]",
            "text/plain": [
              "<Figure size 864x576 with 1 Axes>"
            ]
          },
          "metadata": {
            "needs_background": "light"
          }
        }
      ]
    },
    {
      "cell_type": "markdown",
      "metadata": {
        "id": "zg60u3QDEEZH"
      },
      "source": [
        "(Дополнительно) Если вы нашли какие-то ошибки в данных или выбросы, то можете их убрать. Тут можно поэксперементировать с обработкой данных как угодно, но не за баллы."
      ]
    },
    {
      "cell_type": "markdown",
      "source": [
        "### Пока что ничего не придумал дополнительно"
      ],
      "metadata": {
        "id": "dZuA8mHMoyis"
      }
    },
    {
      "cell_type": "code",
      "source": [
        "X = data[feature_cols]\n",
        "y = data[target_col]"
      ],
      "metadata": {
        "id": "bUjCTUrgOn2V"
      },
      "execution_count": 243,
      "outputs": []
    },
    {
      "cell_type": "markdown",
      "metadata": {
        "id": "DviiJd8REEZK"
      },
      "source": [
        "## Применение линейных моделей (3 балла)\n",
        "\n",
        "1) Обработайте данные для того, чтобы к ним можно было применить LogisticRegression. Т.е. отнормируйте числовые признаки, а категориальные закодируйте с помощью one-hot-encoding'а. \n",
        "\n",
        "2) С помощью кроссвалидации или разделения на train/valid выборку протестируйте разные значения гиперпараметра C и выберите лучший (можно тестировать С=100, 10, 1, 0.1, 0.01, 0.001) по метрике ROC-AUC. \n",
        "\n",
        "Если вы разделяете на train/valid, то используйте LogisticRegressionCV. Он сам при вызове .fit() подберет параметр С. (не забудьте передать scroing='roc_auc', чтобы при кроссвалидации сравнивались значения этой метрики, и refit=True, чтобы при потом модель обучилась на всем датасете с лучшим параметром C). \n",
        "\n",
        "\n",
        "(более сложный вариант) Если вы будете использовать кроссвалидацию, то преобразования данных и LogisticRegression нужно соединить в один Pipeline с помощью make_pipeline, как это делалось во втором семинаре. Потом pipeline надо передать в GridSearchCV. Для one-hot-encoding'a можно испльзовать комбинацию LabelEncoder + OneHotEncoder (сначала превращаем строчки в числа, а потом числа првращаем в one-hot вектора.)"
      ]
    },
    {
      "cell_type": "code",
      "metadata": {
        "id": "xHCLDmwqEEZL"
      },
      "source": [
        "from sklearn.linear_model import LogisticRegression, LogisticRegressionCV\n",
        "from sklearn.model_selection import train_test_split, GridSearchCV\n",
        "from sklearn.preprocessing import StandardScaler, RobustScaler, LabelEncoder, OneHotEncoder\n",
        "from sklearn.pipeline import make_pipeline\n",
        "\n",
        "from sklearn.compose import ColumnTransformer\n",
        "from sklearn.pipeline import Pipeline\n",
        "from sklearn.impute import SimpleImputer\n",
        "from sklearn.preprocessing import StandardScaler, OneHotEncoder\n",
        "from sklearn.linear_model import LogisticRegression\n",
        "from sklearn.model_selection import train_test_split, GridSearchCV"
      ],
      "execution_count": 244,
      "outputs": []
    },
    {
      "cell_type": "code",
      "source": [
        "import warnings\n",
        "warnings.filterwarnings(\"ignore\", category=UserWarning)"
      ],
      "metadata": {
        "id": "SFJOCNgpQLY0"
      },
      "execution_count": 263,
      "outputs": []
    },
    {
      "cell_type": "code",
      "source": [
        "numeric_transformer = Pipeline(\n",
        "    steps=[(\"scaler\", StandardScaler())]\n",
        ")\n",
        "\n",
        "categorical_transformer = OneHotEncoder(handle_unknown=\"ignore\")\n",
        "\n",
        "preprocessor = ColumnTransformer(\n",
        "    transformers=[\n",
        "        (\"num\", numeric_transformer, num_cols),\n",
        "        (\"cat\", categorical_transformer, cat_cols),\n",
        "    ]\n",
        ")\n"
      ],
      "metadata": {
        "id": "A8ur5_UpObD_"
      },
      "execution_count": 245,
      "outputs": []
    },
    {
      "cell_type": "code",
      "source": [
        "pipeline = Pipeline(\n",
        "    steps=[(\"preprocessor\", preprocessor), (\"classifier\", LogisticRegression(random_state=SEED))]\n",
        ")"
      ],
      "metadata": {
        "id": "-XmrvHqhOd0y"
      },
      "execution_count": 246,
      "outputs": []
    },
    {
      "cell_type": "code",
      "source": [
        "X_train, X_test, y_train, y_test = train_test_split(X, y, test_size=0.2, random_state=SEED)\n",
        "\n",
        "pipeline.fit(X_train, y_train)\n",
        "print(\"Скор простой линейки: %.4f\" % roc_auc_score(y_test, pipeline.predict(X_test)))"
      ],
      "metadata": {
        "colab": {
          "base_uri": "https://localhost:8080/"
        },
        "id": "5TRHSJ5OKv35",
        "outputId": "1d0171be-bc50-40e1-aba3-871eba4cf5f7"
      },
      "execution_count": 247,
      "outputs": [
        {
          "output_type": "stream",
          "name": "stdout",
          "text": [
            "Скор простой линейки: 0.7145\n"
          ]
        }
      ]
    },
    {
      "cell_type": "markdown",
      "source": [
        "##Теперь попробуем CV"
      ],
      "metadata": {
        "id": "tMgNbtl2MOZz"
      }
    },
    {
      "cell_type": "code",
      "source": [
        "parameters = {\n",
        "    'classifier__penalty': ['l1', 'l2', 'elasticnet'],\n",
        "    'classifier__C': [1e-4, 1e-3, 1e-2, 1e-1, 1, 1e2, 1e3, 1e4],\n",
        "    'classifier__class_weight': [None, 'balanced'],\n",
        "    'classifier__l1_ratio': [0.1, 0.2, 0.3, 0.4, 0.5, 0.6, 0.7, 0.8, 0.9],\n",
        "}"
      ],
      "metadata": {
        "id": "jF_PKbSuOWZu"
      },
      "execution_count": 256,
      "outputs": []
    },
    {
      "cell_type": "code",
      "source": [
        "pipeline = Pipeline(\n",
        "    steps=[(\"preprocessor\", preprocessor), (\"classifier\", LogisticRegression(random_state=SEED, solver='saga'))]\n",
        ")"
      ],
      "metadata": {
        "id": "wWCo2dUdOY9I"
      },
      "execution_count": 269,
      "outputs": []
    },
    {
      "cell_type": "code",
      "source": [
        "search = GridSearchCV(pipeline, parameters, scoring = 'roc_auc', verbose=1, n_jobs =-1)\n",
        "search.fit(X, y)"
      ],
      "metadata": {
        "colab": {
          "base_uri": "https://localhost:8080/"
        },
        "id": "925hAoadKWCj",
        "outputId": "c5a46c44-a057-4de7-c3ad-fc57edc3c33d"
      },
      "execution_count": 270,
      "outputs": [
        {
          "output_type": "stream",
          "name": "stdout",
          "text": [
            "Fitting 5 folds for each of 432 candidates, totalling 2160 fits\n"
          ]
        },
        {
          "output_type": "execute_result",
          "data": {
            "text/plain": [
              "GridSearchCV(estimator=Pipeline(steps=[('preprocessor',\n",
              "                                        ColumnTransformer(transformers=[('num',\n",
              "                                                                         Pipeline(steps=[('scaler',\n",
              "                                                                                          StandardScaler())]),\n",
              "                                                                         ['ClientPeriod',\n",
              "                                                                          'MonthlySpending',\n",
              "                                                                          'TotalSpent']),\n",
              "                                                                        ('cat',\n",
              "                                                                         OneHotEncoder(handle_unknown='ignore'),\n",
              "                                                                         ['Sex',\n",
              "                                                                          'IsSeniorCitizen',\n",
              "                                                                          'HasPartner',\n",
              "                                                                          'HasChild',\n",
              "                                                                          'HasPhoneService',\n",
              "                                                                          'HasMultiplePhoneNumbers',\n",
              "                                                                          'HasInternetService',\n",
              "                                                                          '...\n",
              "                                                                          'PaymentMethod'])])),\n",
              "                                       ('classifier',\n",
              "                                        LogisticRegression(random_state=42,\n",
              "                                                           solver='saga'))]),\n",
              "             n_jobs=-1,\n",
              "             param_grid={'classifier__C': [0.0001, 0.001, 0.01, 0.1, 1, 100.0,\n",
              "                                           1000.0, 10000.0],\n",
              "                         'classifier__class_weight': [None, 'balanced'],\n",
              "                         'classifier__l1_ratio': [0.1, 0.2, 0.3, 0.4, 0.5, 0.6,\n",
              "                                                  0.7, 0.8, 0.9],\n",
              "                         'classifier__penalty': ['l1', 'l2', 'elasticnet']},\n",
              "             scoring='roc_auc', verbose=1)"
            ]
          },
          "metadata": {},
          "execution_count": 270
        }
      ]
    },
    {
      "cell_type": "markdown",
      "metadata": {
        "id": "uVahy6JKEEZQ"
      },
      "source": [
        "Выпишите какое лучшее качество и с какими параметрами вам удалось получить"
      ]
    },
    {
      "cell_type": "code",
      "source": [
        "clf = search.best_estimator_\n",
        "print(f\"Лучший скор: {search.best_score_}\")\n",
        "print(f\"Лучшие параметры: {search.best_params_}\")"
      ],
      "metadata": {
        "colab": {
          "base_uri": "https://localhost:8080/"
        },
        "id": "vDsEF3K2QxdB",
        "outputId": "0f2ac04a-aedf-49aa-c2d5-ed92a1a06c54"
      },
      "execution_count": 273,
      "outputs": [
        {
          "output_type": "stream",
          "name": "stdout",
          "text": [
            "Лучший скор: 0.844827370696579\n",
            "Лучшие параметры: {'classifier__C': 100.0, 'classifier__class_weight': None, 'classifier__l1_ratio': 0.1, 'classifier__penalty': 'elasticnet'}\n"
          ]
        }
      ]
    },
    {
      "cell_type": "markdown",
      "metadata": {
        "id": "36729TOQEEZR"
      },
      "source": [
        ""
      ]
    },
    {
      "cell_type": "markdown",
      "metadata": {
        "id": "BlTeVy7fEEZR"
      },
      "source": [
        "## Применение градиентного бустинга (2 балла)\n",
        "\n",
        "Если вы хотите получить баллы за точный ответ, то стоит попробовать градиентный бустинг. Часто градиентный бустинг с дефолтными параметрами даст вам 80% результата за 0% усилий.\n",
        "\n",
        "Мы будем использовать catboost, поэтому нам не надо кодировать категориальные признаки. catboost сделает это сам (в .fit() надо передать cat_features=cat_cols). А численные признаки нормировать для моделей, основанных на деревьях не нужно.\n",
        "\n",
        "1) Разделите выборку на train/valid. Протестируйте catboost cо стандартными параметрами.\n",
        "\n",
        "2) Протестируйте разные занчения параметроа количества деревьев и learning_rate'а и выберите лучшую по метрике ROC-AUC комбинацию. \n",
        "\n",
        "(Дополнительно) Есть некоторые сложности с тем, чтобы использовать CatBoostClassifier вместе с GridSearchCV, поэтому мы не просим использовать кроссвалидацию. Но можете попробовать)"
      ]
    },
    {
      "cell_type": "markdown",
      "source": [
        "## Сплитим датасет на будущее"
      ],
      "metadata": {
        "id": "TznnSME3Uz0f"
      }
    },
    {
      "cell_type": "code",
      "source": [
        "X_train, X_test, y_train, y_test = train_test_split(X, y, test_size=0.2, random_state=SEED)"
      ],
      "metadata": {
        "id": "F6OHkFQ_U18Q"
      },
      "execution_count": 297,
      "outputs": []
    },
    {
      "cell_type": "markdown",
      "source": [
        "## Устанавливаем и учим дефолт"
      ],
      "metadata": {
        "id": "AnJse5EZVOm4"
      }
    },
    {
      "cell_type": "code",
      "source": [
        "!pip install catboost"
      ],
      "metadata": {
        "id": "g8vXDBD0UuCQ",
        "outputId": "3377aa2d-336b-4d3a-ac08-d840a5d5cd5d",
        "colab": {
          "base_uri": "https://localhost:8080/"
        }
      },
      "execution_count": 276,
      "outputs": [
        {
          "output_type": "stream",
          "name": "stdout",
          "text": [
            "Collecting catboost\n",
            "  Downloading catboost-1.0.4-cp37-none-manylinux1_x86_64.whl (76.1 MB)\n",
            "\u001b[K     |████████████████████████████████| 76.1 MB 1.2 MB/s \n",
            "\u001b[?25hRequirement already satisfied: scipy in /usr/local/lib/python3.7/dist-packages (from catboost) (1.4.1)\n",
            "Requirement already satisfied: graphviz in /usr/local/lib/python3.7/dist-packages (from catboost) (0.10.1)\n",
            "Requirement already satisfied: six in /usr/local/lib/python3.7/dist-packages (from catboost) (1.15.0)\n",
            "Requirement already satisfied: matplotlib in /usr/local/lib/python3.7/dist-packages (from catboost) (3.2.2)\n",
            "Requirement already satisfied: numpy>=1.16.0 in /usr/local/lib/python3.7/dist-packages (from catboost) (1.21.5)\n",
            "Requirement already satisfied: plotly in /usr/local/lib/python3.7/dist-packages (from catboost) (5.5.0)\n",
            "Requirement already satisfied: pandas>=0.24.0 in /usr/local/lib/python3.7/dist-packages (from catboost) (1.3.5)\n",
            "Requirement already satisfied: python-dateutil>=2.7.3 in /usr/local/lib/python3.7/dist-packages (from pandas>=0.24.0->catboost) (2.8.2)\n",
            "Requirement already satisfied: pytz>=2017.3 in /usr/local/lib/python3.7/dist-packages (from pandas>=0.24.0->catboost) (2018.9)\n",
            "Requirement already satisfied: cycler>=0.10 in /usr/local/lib/python3.7/dist-packages (from matplotlib->catboost) (0.11.0)\n",
            "Requirement already satisfied: pyparsing!=2.0.4,!=2.1.2,!=2.1.6,>=2.0.1 in /usr/local/lib/python3.7/dist-packages (from matplotlib->catboost) (3.0.7)\n",
            "Requirement already satisfied: kiwisolver>=1.0.1 in /usr/local/lib/python3.7/dist-packages (from matplotlib->catboost) (1.3.2)\n",
            "Requirement already satisfied: tenacity>=6.2.0 in /usr/local/lib/python3.7/dist-packages (from plotly->catboost) (8.0.1)\n",
            "Installing collected packages: catboost\n",
            "Successfully installed catboost-1.0.4\n"
          ]
        }
      ]
    },
    {
      "cell_type": "code",
      "metadata": {
        "id": "Fioxxlp-EEZS"
      },
      "source": [
        "from catboost import CatBoostClassifier\n",
        "from sklearn.model_selection import KFold"
      ],
      "execution_count": 298,
      "outputs": []
    },
    {
      "cell_type": "code",
      "source": [
        "default = CatBoostClassifier(random_seed=SEED)"
      ],
      "metadata": {
        "id": "GfAxeQV3UiqO"
      },
      "execution_count": 299,
      "outputs": []
    },
    {
      "cell_type": "code",
      "source": [
        "default.fit(X_train, y_train, cat_features=cat_cols, verbose=False)\n",
        "\n",
        "print(f\"Скор дефолта: {roc_auc_score(y_test, default.predict(X_test))}\")"
      ],
      "metadata": {
        "id": "2741tNOeVNc7",
        "outputId": "7cfaf49e-78c7-4de8-e50d-306c915f1a4f",
        "colab": {
          "base_uri": "https://localhost:8080/"
        }
      },
      "execution_count": 300,
      "outputs": [
        {
          "output_type": "stream",
          "name": "stdout",
          "text": [
            "Скор дефолта: 0.7103326256192498\n"
          ]
        }
      ]
    },
    {
      "cell_type": "markdown",
      "source": [
        "## Дефолтное значение разочаровывает, ожидаешь 80+, а по итогу скор как у линейки :(\n",
        "\n",
        "Значит, нужно пробовать перебор и пробивать 90+ (I believe in Yandex and CB supremacy ^) )\n",
        "\n"
      ],
      "metadata": {
        "id": "mlAIKoL1WglU"
      }
    },
    {
      "cell_type": "code",
      "source": [
        "superCB = CatBoostClassifier(random_seed=SEED, cat_features=cat_cols)"
      ],
      "metadata": {
        "id": "iUjLC4QZZXrM"
      },
      "execution_count": 311,
      "outputs": []
    },
    {
      "cell_type": "code",
      "source": [
        "parameters = {\n",
        "    'iterations': [100, 1000, 3000, 5000, 10000],\n",
        "    'learning_rate': [1e-3, 1e-2, 1e-1, 0.03, 0.05, 0.1],\n",
        "    'l2_leaf_reg': [1e-1, 1, 3, 5, 10],\n",
        "    'bootstrap_type': ['Bayesian', 'Bernoulli', 'MVS'],\n",
        "    'bagging_temperature': [0.1, 0.3, 0.5, 1, 3, 5, 10, 100],\n",
        "    'subsample': [0.5, 0.6, 0.66, 0.8],\n",
        "    'sampling_frequency': ['PerTree', 'PerTreeLevel'],\n",
        "    'depth': [5, 6, 8, 10, 13, 16],\n",
        "    'grow_policy': ['Depthwise', 'Lossguide'],\n",
        "    'min_data_in_leaf': [1, 3, 5, 10, 20],\n",
        "    'auto_class_weights': ['Balanced', 'SqrtBalanced'],\n",
        "    'border_count':[32,5,10,20,50,100,200],\n",
        "    'ctr_border_count':[50,5,10,20,100,200]\n",
        "}"
      ],
      "metadata": {
        "id": "j1oxkSVOZa_S"
      },
      "execution_count": 315,
      "outputs": []
    },
    {
      "cell_type": "code",
      "source": [
        "grid_search_result = superCB.grid_search(parameters, cv=5, X=X, y=y, verbose=True, plot=True, partition_random_seed=SEED)"
      ],
      "metadata": {
        "id": "sNRAQi-FeOjk"
      },
      "execution_count": null,
      "outputs": []
    },
    {
      "cell_type": "code",
      "source": [
        "from google.colab import output\n",
        "output.enable_custom_widget_manager()"
      ],
      "metadata": {
        "id": "-RmqV4WdeR9b"
      },
      "execution_count": null,
      "outputs": []
    },
    {
      "cell_type": "markdown",
      "metadata": {
        "id": "rf4Kjt96EEZU"
      },
      "source": [
        "Выпишите какое лучшее качество и с какими параметрами вам удалось получить"
      ]
    },
    {
      "cell_type": "markdown",
      "metadata": {
        "id": "d2d9GolXEEZV"
      },
      "source": [
        ""
      ]
    },
    {
      "cell_type": "markdown",
      "metadata": {
        "id": "dDMXbvNZEEZV"
      },
      "source": [
        "# Предсказания"
      ]
    },
    {
      "cell_type": "code",
      "metadata": {
        "id": "G_P4wFNaEEZW",
        "outputId": "1fba5dfc-88e4-49e3-ed8a-afe21ae3325a"
      },
      "source": [
        "best_model = # какая-то предыдущая модель"
      ],
      "execution_count": null,
      "outputs": [
        {
          "output_type": "error",
          "ename": "SyntaxError",
          "evalue": "invalid syntax (<ipython-input-12-7d881febecc7>, line 1)",
          "traceback": [
            "\u001b[0;36m  File \u001b[0;32m\"<ipython-input-12-7d881febecc7>\"\u001b[0;36m, line \u001b[0;32m1\u001b[0m\n\u001b[0;31m    best_model = # какая-то предыдущая модель\u001b[0m\n\u001b[0m                                             ^\u001b[0m\n\u001b[0;31mSyntaxError\u001b[0m\u001b[0;31m:\u001b[0m invalid syntax\n"
          ]
        }
      ]
    },
    {
      "cell_type": "code",
      "metadata": {
        "id": "FfSufx0CEEZZ"
      },
      "source": [
        "X_test = pd.read_csv('./test.csv')\n",
        "submission = pd.read_csv('./submission.csv')\n",
        "\n",
        "submission['Churn'] = # best_model.predict_proba(X_test) / best_model.predict(X_test)\n",
        "submission.to_csv('./my_submission.csv')"
      ],
      "execution_count": null,
      "outputs": []
    },
    {
      "cell_type": "markdown",
      "metadata": {
        "id": "mkxjbGkVEEZc"
      },
      "source": [
        "# Kaggle (5 баллов)\n",
        "\n",
        "Как выставить баллы:\n",
        "\n",
        "1) 1 >= roc auc > 0.84 это 5 баллов\n",
        "\n",
        "2) 0.84 >= roc auc > 0.7 это 3 балла\n",
        "\n",
        "3) 0.7 >= roc auc > 0.6 это 1 балл\n",
        "\n",
        "4) 0.6 >= roc auc это 0 баллов\n",
        "\n",
        "\n",
        "Для выполнения задания необходимо выполнить следующие шаги.\n",
        "* Зарегистрироваться на платформе [kaggle.com](kaggle.com). Процесс выставления оценок будет проходить при подведении итогового рейтинга. Пожалуйста, укажите во вкладке Team -> Team name свои имя и фамилию в формате Имя_Фамилия (важно, чтобы имя и фамилия совпадали с данными на Stepik).\n",
        "* Обучить модель, получить файл с ответами в формате .csv и сдать его в конкурс. Пробуйте и экспериментируйте. Обратите внимание, что вы можете выполнять до 20 попыток сдачи на kaggle в день.\n",
        "* После окончания соревнования отправить в итоговый ноутбук с решением на степик. \n",
        "* После дедлайна проверьте посылки других участников по критериям. Для этого надо зайти на степик, скачать их ноутбук и проверить скор в соревновании."
      ]
    }
  ]
}