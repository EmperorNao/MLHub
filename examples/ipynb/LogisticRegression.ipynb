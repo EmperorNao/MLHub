{
  "nbformat": 4,
  "nbformat_minor": 0,
  "metadata": {
    "colab": {
      "name": "LogisticRegression.ipynb",
      "provenance": [],
      "collapsed_sections": [],
      "authorship_tag": "ABX9TyMw4Fnjl2NpB6kdeO6/8lmO",
      "include_colab_link": true
    },
    "kernelspec": {
      "name": "python3",
      "display_name": "Python 3"
    },
    "language_info": {
      "name": "python"
    }
  },
  "cells": [
    {
      "cell_type": "markdown",
      "metadata": {
        "id": "view-in-github",
        "colab_type": "text"
      },
      "source": [
        "<a href=\"https://colab.research.google.com/github/EmperorNao/MLHub/blob/main/examples/ipynb/LogisticRegression.ipynb\" target=\"_parent\"><img src=\"https://colab.research.google.com/assets/colab-badge.svg\" alt=\"Open In Colab\"/></a>"
      ]
    },
    {
      "cell_type": "code",
      "source": [
        "import numpy as np\n",
        "import numpy as np\n",
        "import matplotlib.pyplot as plt\n",
        "from sklearn import linear_model\n",
        "from math import ceil"
      ],
      "metadata": {
        "id": "7QwgXnBbgaqy"
      },
      "execution_count": null,
      "outputs": []
    },
    {
      "cell_type": "code",
      "source": [
        "def sgd(x: np.ndarray,\n",
        "        y: np.ndarray,\n",
        "        loss_fn, grad_loss_fn,\n",
        "        lr = 1e-4,\n",
        "        smart_init=False,\n",
        "        w: np.ndarray = None,\n",
        "        lam: float = 0.9,\n",
        "        eps=1e-6,\n",
        "        batch_size=1, # менять bs нельзя, данный метод не работает для нескольких элементов в батче\n",
        "        max_iter=10000,\n",
        "        logging=False) -> (np.ndarray, float):\n",
        "\n",
        "    n_features = x.shape[1]\n",
        "    n_objects = x.shape[0]\n",
        "\n",
        "    if w is None:\n",
        "        if not smart_init:\n",
        "            w = np.zeros(n_features)\n",
        "            for i in range(n_features):\n",
        "                w[i] = np.random.normal(0, 1 / (2 * x.shape[0]))\n",
        "\n",
        "    w = np.expand_dims(w, -1)\n",
        "\n",
        "    grad_coef = np.asarray([grad_loss_fn(w, np.expand_dims(x[i], axis=0), y[i]) for i in range(n_objects)])\n",
        "    grad_sum = np.sum(grad_coef, axis=0)\n",
        "\n",
        "\n",
        "    delta_q = float(\"inf\")\n",
        "    delta_w = np.array([float(\"inf\")] * n_features)\n",
        "    loss = loss_fn(w, x, y)\n",
        "    q = np.sum(loss) / x.shape[0]\n",
        "\n",
        "    history = []\n",
        "    iter = 0\n",
        "\n",
        "    if logging:\n",
        "        print(f\"Iter = {iter}, Loss = {q}\")\n",
        "\n",
        "    while iter < max_iter and abs(delta_q) > eps:# or abs(np.sum(delta_w)) > (eps * n_features)):\n",
        "\n",
        "        idx_obj = np.random.choice(range(n_objects), size=batch_size)\n",
        "        x_obj = x[idx_obj,:]\n",
        "        y_obj = y[idx_obj]\n",
        "\n",
        "        loss = np.sum(loss_fn(w, x_obj, y_obj)) / x_obj.shape[0]\n",
        "\n",
        "        grad = grad_loss_fn(w, x_obj, y_obj)\n",
        "        grad_sum -= grad_coef[idx_obj[0]]\n",
        "        grad_coef[idx_obj[0]] = grad\n",
        "        grad_sum += grad_coef[idx_obj[0]]\n",
        "\n",
        "        delta_w = lr * grad_sum / n_objects\n",
        "        w = w - delta_w\n",
        "\n",
        "        new_q = lam * loss + (1 - lam) * q\n",
        "        delta_q = new_q - q\n",
        "        q = new_q\n",
        "\n",
        "        #print(f\"iter {iter}\\ngrad = {grad}\\ndelta w = {delta_w}\\ndelta q = {delta_q}\\n\\n\")\n",
        "        iter += 1\n",
        "        history.append(q)\n",
        "\n",
        "        if logging:\n",
        "            print(f\"Iter = {iter}, Loss = {q}\")\n",
        "\n",
        "    return w, q, history\n",
        "\n",
        "\n",
        "class SGDOptimizer:\n",
        "\n",
        "    def __init__(self,\n",
        "                 lr: float =1e-4,\n",
        "                 smart_init=False,\n",
        "                 w: np.ndarray = None,\n",
        "                 lam: float = 0.9,\n",
        "                 eps = 1e-6,\n",
        "                 max_iter = 10000,\n",
        "                 logging=False):\n",
        "\n",
        "        self.lr = lr\n",
        "        self.smart_init = smart_init\n",
        "        self.w = w\n",
        "        self.lam = lam\n",
        "        self.eps = eps\n",
        "        self.max_iter = max_iter\n",
        "        self.logging = logging\n",
        "\n",
        "    def fit(self,\n",
        "            x: np.ndarray,\n",
        "            y: np.ndarray,\n",
        "            loss_fn,\n",
        "            grad_loss_fn,\n",
        "            get_hist=False) -> (np.ndarray, float):\n",
        "        # weight and quality\n",
        "\n",
        "        res = sgd(x, y, loss_fn, grad_loss_fn,\n",
        "                   self.lr, self.smart_init, self.w, self.lam, self.eps, 1, self.max_iter, self.logging)\n",
        "\n",
        "        if get_hist:\n",
        "            return res\n",
        "\n",
        "        else:\n",
        "            return res[0], res[1]\n"
      ],
      "metadata": {
        "id": "Og97Ea3egYL8"
      },
      "execution_count": null,
      "outputs": []
    },
    {
      "cell_type": "code",
      "source": [
        "\n",
        "class DimensionsException(Exception):\n",
        "\n",
        "    def __init__(self, s):\n",
        "        self.msg = s\n",
        "        super().__init__()\n",
        "\n",
        "    def __str__(self):\n",
        "        return self.msg\n",
        "\n",
        "\n",
        "\n",
        "def accuracy(y_real: np.ndarray, y_pred: np.ndarray) -> float:\n",
        "\n",
        "    return np.mean(y_real == y_pred)\n",
        "\n",
        "\n",
        "def train_test_split(x: np.ndarray,\n",
        "                     y: np.ndarray,\n",
        "                     ratio: float = 0) -> ((np.ndarray, np.ndarray), (np.ndarray, np.ndarray)):\n",
        "\n",
        "    if x.shape[0] != y.shape[0]:\n",
        "        raise DimensionsException(\"X and y has different number of objects\")\n",
        "\n",
        "    if 1 < ratio < 0:\n",
        "        raise ValueError(f\"Ratio need to be in [0, 1], provided {ratio}\")\n",
        "\n",
        "    idx_full = range(0, x.shape[0])\n",
        "    size = ceil(x.shape[0] * ratio)\n",
        "    idx_train = list(np.random.choice(idx_full, size))\n",
        "    idx_test = list(set(idx_full).difference(idx_train))\n",
        "\n",
        "    return (x[idx_train, :], x[idx_test, :]), (y[idx_train], y[idx_test])\n"
      ],
      "metadata": {
        "id": "z_Lvu6zngPqc"
      },
      "execution_count": null,
      "outputs": []
    },
    {
      "cell_type": "code",
      "source": [
        "\n",
        "class BinaryClassifier:\n",
        "\n",
        "    def __init__(self, weights: np.ndarray = None, L2_coefficient: float = 0, logging=False):\n",
        "\n",
        "        self.weights = weights\n",
        "        self.L2_coefficient = L2_coefficient if L2_coefficient != 0 else 0.05\n",
        "        self.logging=logging\n",
        "\n",
        "    def fit(self, x: np.ndarray, y: np.ndarray, optimizer):\n",
        "\n",
        "        if x.shape[0] != y.shape[0]:\n",
        "            raise DimensionsException(\"X and y has different number of objects\")\n",
        "\n",
        "        n_objects = x.shape[0]\n",
        "        n_features = x.shape[1] + 1\n",
        "        ones = 1 * np.ones((n_objects, 1))\n",
        "\n",
        "        x_padded = np.hstack([x, ones])\n",
        "\n",
        "        y_transformed = []\n",
        "        for el_y in y:\n",
        "            if el_y == 1:\n",
        "                y_transformed.append(1)\n",
        "            else:\n",
        "                y_transformed.append(0)\n",
        "\n",
        "        w, q, history = optimizer.fit(x_padded, np.expand_dims(y, -1), self.loss, self.grad_loss, get_hist=True)\n",
        "        self.weights = w\n",
        "\n",
        "        return history\n",
        "\n",
        "    def sigmoid(self, x, w):\n",
        "        # x.shape = m x n\n",
        "        # y.shape = m x 1\n",
        "        # w.shape = n x 1\n",
        "\n",
        "        rev = np.exp(-1 * np.dot(x, w))\n",
        "        return 1 / (np.ones([x.shape[0], w.shape[1]]) + rev)\n",
        "\n",
        "    def loss(self, w: np.ndarray, x: np.ndarray, y: np.ndarray):\n",
        "        # x.shape = m x n\n",
        "        # y.shape = m x 1\n",
        "        # w.shape = n x 1\n",
        "\n",
        "        sigm_res = self.sigmoid(x, w)\n",
        "\n",
        "        return np.mean(-1 * y * np.log(sigm_res) + \\\n",
        "        -1 * (np.ones_like(y) - y) * np.log(np.ones([x.shape[0], w.shape[1]]) - sigm_res))\n",
        "\n",
        "    def grad_loss(self, w: np.ndarray, x: np.ndarray, y: np.ndarray):\n",
        "        # x.shape = m x n\n",
        "        # y.shape = m x 1\n",
        "        # w.shape = n x 1\n",
        "\n",
        "        return np.dot(x.T, (self.sigmoid(x, w) - y))\n",
        "\n",
        "    def predict(self, x: np.ndarray) -> np.ndarray:\n",
        "\n",
        "        n_objects = x.shape[0]\n",
        "        n_features = x.shape[1] + 1\n",
        "        ones = 1 * np.ones((n_objects, 1))\n",
        "\n",
        "        x_padded = np.hstack([x, ones])\n",
        "\n",
        "        pred = self.sigmoid(x_padded, self.weights)\n",
        "        if self.logging:\n",
        "            print(self.weights)\n",
        "            print(pred)\n",
        "\n",
        "        return (pred >= 0.5).astype(dtype=\"int\").squeeze(-1)"
      ],
      "metadata": {
        "id": "RhTVnyfsgLA0"
      },
      "execution_count": null,
      "outputs": []
    },
    {
      "cell_type": "code",
      "execution_count": null,
      "metadata": {
        "id": "3FU9wLkLf68i"
      },
      "outputs": [],
      "source": [
        "\n",
        "def generate_clouds(scale):\n",
        "\n",
        "    N = 200\n",
        "    N2 = 25\n",
        "\n",
        "    n_pos = int(N // 2 + np.random.randint(-N2, N2))\n",
        "    n_neg = int(N // 2 + np.random.randint(-N2, N2))\n",
        "\n",
        "    pos_x = 10\n",
        "    pos_y = 10\n",
        "\n",
        "    neg_x = -10\n",
        "    neg_y = 10\n",
        "\n",
        "    pos_pairs = np.array([np.array(\n",
        "        [pos_x + np.random.normal(scale=scale), pos_y + np.random.normal(scale=scale)])\n",
        "        for i in range(0, n_pos)])\n",
        "\n",
        "    pos_answers = np.array([1] * n_pos)\n",
        "\n",
        "    neg_pairs = np.array([np.asarray(\n",
        "        [neg_x + np.random.normal(scale=scale), neg_y + np.random.normal(scale=scale)])\n",
        "        for i in range(0, n_neg)])\n",
        "    neg_answers = np.array([0] * n_neg)\n",
        "\n",
        "    x = np.vstack([pos_pairs, neg_pairs])\n",
        "    y = np.hstack([pos_answers, neg_answers])\n",
        "\n",
        "    idx = np.random.permutation([i for i in range(x.shape[0])])\n",
        "\n",
        "    x = x[idx]\n",
        "    y = y[idx]\n",
        "\n",
        "    return x, y\n",
        "\n",
        "\n",
        "def binlog_test():\n",
        "\n",
        "    for scale in [3, 5, 9]:\n",
        "\n",
        "\n",
        "        optim = SGDOptimizer(lr=1e-4, max_iter=10000, lam=0.80)\n",
        "        simple = BinaryClassifier()\n",
        "        sklearn = linear_model.LogisticRegression()\n",
        "\n",
        "        x, y = generate_clouds(scale)\n",
        "        x_pair, y_pair = train_test_split(x, y, ratio=0.75)\n",
        "\n",
        "        x_train, x_test = x_pair\n",
        "        y_train, y_test = y_pair\n",
        "\n",
        "        simple.fit(x_train, y_train, optim)\n",
        "        sklearn.fit(x_train, y_train)\n",
        "\n",
        "        y_pred_simple = simple.predict(x_test)\n",
        "        y_pred_sklearn = sklearn.predict(x_test)\n",
        "\n",
        "        print(f\"Scale = {scale}\")\n",
        "        print(f\"ACC on SLKEARN = {accuracy(y_test, y_pred_sklearn)}\")\n",
        "        print(f\"ACC on our LR = {accuracy(y_test, y_pred_simple)}\")\n",
        "\n",
        "        fig = plt.figure(figsize = (12, 8))\n",
        "\n",
        "        idx_one = y_test == 1\n",
        "        idx_zero = y_test == 0\n",
        "\n",
        "        plt.title(\"Two classes\")\n",
        "\n",
        "        plt.scatter(x_test[idx_one, 0], x_test[idx_one, 1], color=\"red\", s=50)\n",
        "\n",
        "        plt.scatter(x_test[idx_zero, 0], x_test[idx_zero, 1], color=\"blue\", s=50)\n",
        "\n",
        "        b = simple.weights[2]\n",
        "        w1 = simple.weights[0]\n",
        "        w2 = simple.weights[1]\n",
        "        x = [i for i in range(-15, 15)]\n",
        "        y = [-i * w1 / w2 - b / w2 for i in x]\n",
        "        plt.plot(x, y, color=\"black\")\n",
        "        plt.ylim([-25, 25])\n",
        "\n",
        "        plt.show()"
      ]
    },
    {
      "cell_type": "code",
      "source": [
        "binlog_test()"
      ],
      "metadata": {
        "colab": {
          "base_uri": "https://localhost:8080/",
          "height": 1000
        },
        "id": "qIXjzyG8gEam",
        "outputId": "e4d8d2b4-fef1-4709-a6d8-140fa67c60c6"
      },
      "execution_count": null,
      "outputs": [
        {
          "output_type": "stream",
          "name": "stdout",
          "text": [
            "Scale = 3\n",
            "ACC on SLKEARN = 1.0\n",
            "ACC on our LR = 1.0\n"
          ]
        },
        {
          "output_type": "display_data",
          "data": {
            "image/png": "[encoded data removed]",
            "text/plain": [
              "<Figure size 864x576 with 1 Axes>"
            ]
          },
          "metadata": {
            "needs_background": "light"
          }
        },
        {
          "output_type": "stream",
          "name": "stdout",
          "text": [
            "Scale = 5\n",
            "ACC on SLKEARN = 0.9772727272727273\n",
            "ACC on our LR = 0.9886363636363636\n"
          ]
        },
        {
          "output_type": "display_data",
          "data": {
            "image/png": "[encoded data removed]",
            "text/plain": [
              "<Figure size 864x576 with 1 Axes>"
            ]
          },
          "metadata": {
            "needs_background": "light"
          }
        },
        {
          "output_type": "stream",
          "name": "stdout",
          "text": [
            "Scale = 9\n",
            "ACC on SLKEARN = 0.8865979381443299\n",
            "ACC on our LR = 0.865979381443299\n"
          ]
        },
        {
          "output_type": "display_data",
          "data": {
            "image/png": "[encoded data removed]",
            "text/plain": [
              "<Figure size 864x576 with 1 Axes>"
            ]
          },
          "metadata": {
            "needs_background": "light"
          }
        }
      ]
    }
  ]
}